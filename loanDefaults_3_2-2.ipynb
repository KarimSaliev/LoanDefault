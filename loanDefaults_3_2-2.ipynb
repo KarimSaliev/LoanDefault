{
  "cells": [
    {
      "cell_type": "code",
      "execution_count": 1,
      "id": "02d6873d-a7a9-48de-baa4-26e90c0fc415",
      "metadata": {
        "id": "02d6873d-a7a9-48de-baa4-26e90c0fc415"
      },
      "outputs": [],
      "source": [
        "import pandas as pd\n",
        "import numpy as np\n",
        "import matplotlib.pyplot as plt\n",
        "from sklearn.preprocessing import LabelEncoder"
      ]
    },
    {
      "cell_type": "code",
      "execution_count": 2,
      "id": "cfbbae99-7098-447e-8c03-55ecef2ea120",
      "metadata": {
        "id": "cfbbae99-7098-447e-8c03-55ecef2ea120"
      },
      "outputs": [],
      "source": [
        "df = pd.read_csv(r'/content/Loan_default.csv', index_col=0)"
      ]
    },
    {
      "cell_type": "code",
      "execution_count": 3,
      "id": "ca7dbbf3-1393-4a26-a6a9-55c7fa5e3c9d",
      "metadata": {
        "colab": {
          "base_uri": "https://localhost:8080/"
        },
        "id": "ca7dbbf3-1393-4a26-a6a9-55c7fa5e3c9d",
        "outputId": "3cd2bfd4-ddf4-44af-c9f0-7306ec6ca348"
      },
      "outputs": [
        {
          "output_type": "stream",
          "name": "stdout",
          "text": [
            "Age               0\n",
            "Income            0\n",
            "LoanAmount        0\n",
            "CreditScore       0\n",
            "MonthsEmployed    0\n",
            "NumCreditLines    0\n",
            "InterestRate      0\n",
            "LoanTerm          0\n",
            "DTIRatio          0\n",
            "Education         0\n",
            "EmploymentType    0\n",
            "MaritalStatus     0\n",
            "HasMortgage       0\n",
            "HasDependents     0\n",
            "LoanPurpose       0\n",
            "HasCoSigner       0\n",
            "Default           0\n",
            "dtype: int64\n"
          ]
        }
      ],
      "source": [
        "print(df.isna().sum())"
      ]
    },
    {
      "cell_type": "code",
      "execution_count": 4,
      "id": "76f9fe01-d672-4347-8762-ab7b1f3f59b8",
      "metadata": {
        "id": "76f9fe01-d672-4347-8762-ab7b1f3f59b8"
      },
      "outputs": [],
      "source": [
        "#no empty values detected"
      ]
    },
    {
      "cell_type": "code",
      "execution_count": 5,
      "id": "6b12b425-8d13-436f-a570-228dd4dc3f69",
      "metadata": {
        "id": "6b12b425-8d13-436f-a570-228dd4dc3f69"
      },
      "outputs": [],
      "source": [
        "#Encoding values"
      ]
    },
    {
      "cell_type": "code",
      "execution_count": 6,
      "id": "ef5ddde6-1556-49ee-b75a-84daa92a1e16",
      "metadata": {
        "id": "ef5ddde6-1556-49ee-b75a-84daa92a1e16"
      },
      "outputs": [],
      "source": [
        "label_encoder = LabelEncoder()"
      ]
    },
    {
      "cell_type": "code",
      "execution_count": 7,
      "id": "d4b67b26-a2d2-4486-9d40-451ac761d679",
      "metadata": {
        "id": "d4b67b26-a2d2-4486-9d40-451ac761d679"
      },
      "outputs": [],
      "source": [
        "columns_to_encode = ['Education', 'EmploymentType', 'MaritalStatus', 'HasMortgage', 'HasDependents', 'LoanPurpose', 'HasCoSigner', 'Default']\n",
        "df[columns_to_encode] = df[columns_to_encode].apply(lambda col: label_encoder.fit_transform(col))"
      ]
    },
    {
      "cell_type": "code",
      "execution_count": 8,
      "id": "aaeff698-2949-408f-811f-22ebb89a662b",
      "metadata": {
        "id": "aaeff698-2949-408f-811f-22ebb89a662b"
      },
      "outputs": [],
      "source": [
        "#Train, validation, test split"
      ]
    },
    {
      "cell_type": "code",
      "execution_count": 9,
      "id": "78f48695-8dd5-45e5-9c28-3f5c34d0d238",
      "metadata": {
        "id": "78f48695-8dd5-45e5-9c28-3f5c34d0d238"
      },
      "outputs": [],
      "source": [
        "train,valid,test = np.split(df.sample(frac=1), [int(0.6*len(df)), int(0.8*len(df))])"
      ]
    },
    {
      "cell_type": "code",
      "source": [
        "from collections import Counter"
      ],
      "metadata": {
        "id": "wazc6uanHY1C"
      },
      "id": "wazc6uanHY1C",
      "execution_count": 10,
      "outputs": []
    },
    {
      "cell_type": "code",
      "source": [
        "count = Counter(train['Default'])\n",
        "count"
      ],
      "metadata": {
        "colab": {
          "base_uri": "https://localhost:8080/"
        },
        "id": "gJg0CtS6HbQQ",
        "outputId": "861eb66c-e5dc-4133-9b97-e79a319a5e6a"
      },
      "id": "gJg0CtS6HbQQ",
      "execution_count": 11,
      "outputs": [
        {
          "output_type": "execute_result",
          "data": {
            "text/plain": [
              "Counter({0: 135568, 1: 17640})"
            ]
          },
          "metadata": {},
          "execution_count": 11
        }
      ]
    },
    {
      "cell_type": "code",
      "source": [
        "# Since the classes are imbalanced, there is a need to oversample"
      ],
      "metadata": {
        "id": "8AZ_G5axHoT5"
      },
      "id": "8AZ_G5axHoT5",
      "execution_count": 12,
      "outputs": []
    },
    {
      "cell_type": "code",
      "execution_count": 13,
      "id": "dc47675a-fec0-4ace-b93d-9f1474472a5c",
      "metadata": {
        "id": "dc47675a-fec0-4ace-b93d-9f1474472a5c"
      },
      "outputs": [],
      "source": [
        "from sklearn.preprocessing import StandardScaler\n",
        "from imblearn.over_sampling import RandomOverSampler"
      ]
    },
    {
      "cell_type": "code",
      "execution_count": 14,
      "id": "58927ef5-8d09-4db3-b532-299da42e9c6a",
      "metadata": {
        "id": "58927ef5-8d09-4db3-b532-299da42e9c6a"
      },
      "outputs": [],
      "source": [
        "def scale_dataset(df, oversampler=False):\n",
        "    x = df[df.columns[:-1]].values\n",
        "    y = df[df.columns[-1]].values\n",
        "    scaler = StandardScaler()\n",
        "    x = scaler.fit_transform(x)\n",
        "    if oversampler:\n",
        "        ros = RandomOverSampler()\n",
        "        x,y = ros.fit_resample(x,y)\n",
        "    data = np.hstack((x, np.reshape(y, (-1,1))))\n",
        "    return data, x, y"
      ]
    },
    {
      "cell_type": "code",
      "execution_count": 15,
      "id": "cb949077-1d01-4fd3-b914-0217b08a05c2",
      "metadata": {
        "id": "cb949077-1d01-4fd3-b914-0217b08a05c2"
      },
      "outputs": [],
      "source": [
        "train, x_train, y_train = scale_dataset(df, True)\n",
        "valid, x_valid, y_valid = scale_dataset(df, False)\n",
        "test, x_test, y_test = scale_dataset(df, False)"
      ]
    },
    {
      "cell_type": "code",
      "source": [
        "count = Counter(y_train)\n",
        "count"
      ],
      "metadata": {
        "colab": {
          "base_uri": "https://localhost:8080/"
        },
        "id": "p-qXIwXhIFKa",
        "outputId": "5a61cdd2-243d-4321-eb73-af49a7a84347"
      },
      "id": "p-qXIwXhIFKa",
      "execution_count": 16,
      "outputs": [
        {
          "output_type": "execute_result",
          "data": {
            "text/plain": [
              "Counter({0: 225694, 1: 225694})"
            ]
          },
          "metadata": {},
          "execution_count": 16
        }
      ]
    },
    {
      "cell_type": "code",
      "execution_count": 17,
      "id": "e5c806a5-9bb5-4407-9dcf-7a74622bb64e",
      "metadata": {
        "id": "e5c806a5-9bb5-4407-9dcf-7a74622bb64e"
      },
      "outputs": [],
      "source": [
        "# Now that both classes are equally distributed we can train our model"
      ]
    },
    {
      "cell_type": "code",
      "execution_count": 18,
      "id": "7c6debfc-1609-4227-a88a-5e9d3a6a1388",
      "metadata": {
        "id": "7c6debfc-1609-4227-a88a-5e9d3a6a1388"
      },
      "outputs": [],
      "source": [
        "from sklearn.metrics import classification_report as cr\n",
        "from sklearn.metrics import confusion_matrix as cm"
      ]
    },
    {
      "cell_type": "code",
      "execution_count": 19,
      "id": "dd351a91-05b4-4633-9243-b2ec3cf44cb6",
      "metadata": {
        "id": "dd351a91-05b4-4633-9243-b2ec3cf44cb6"
      },
      "outputs": [],
      "source": [
        "def plot_loss(history):\n",
        "    plt.plot(history.history['loss'], label='loss')\n",
        "    plt.plot(history.history['val_loss'], label='val_loss')\n",
        "    plt.xlabel('Epoch')\n",
        "    plt.ylabel('Binary crossentropy')\n",
        "    plt.legend()\n",
        "    plt.grid(True)\n",
        "    plt.show()\n",
        "\n",
        "def plot_accuracy(history):\n",
        "    plt.plot(history.history['accuracy'], label='accuracy')\n",
        "    plt.plot(history.history['val_accuracy'], label='val_accuracy')\n",
        "    plt.xlabel('Epoch')\n",
        "    plt.ylabel('Accuracy')\n",
        "    plt.legend()\n",
        "    plt.grid(True)\n",
        "    plt.show()"
      ]
    },
    {
      "cell_type": "code",
      "execution_count": 21,
      "id": "9jPkQ5-r0zdV",
      "metadata": {
        "id": "9jPkQ5-r0zdV"
      },
      "outputs": [],
      "source": [
        "import tensorflow as tf"
      ]
    },
    {
      "cell_type": "code",
      "execution_count": 25,
      "id": "8a946452-bb93-46c8-a7c8-4d61c391992f",
      "metadata": {
        "id": "8a946452-bb93-46c8-a7c8-4d61c391992f"
      },
      "outputs": [],
      "source": [
        "nn_model = tf.keras.Sequential(\n",
        "  [\n",
        "  tf.keras.layers.Dense(740, activation='tanh', input_shape=x_train[0].shape),\n",
        "  tf.keras.layers.Dense(280, activation='tanh'),\n",
        "  tf.keras.layers.Dense(10, activation='tanh'),\n",
        "  tf.keras.layers.Dense(1, activation='sigmoid'),\n",
        "  ]\n",
        ")\n",
        "nn_model.compile(optimizer=tf.keras.optimizers.Adam(0.0001), loss='binary_crossentropy', metrics=['accuracy'])"
      ]
    },
    {
      "cell_type": "code",
      "execution_count": 24,
      "id": "iT-zHIIU19rd",
      "metadata": {
        "id": "iT-zHIIU19rd"
      },
      "outputs": [],
      "source": [
        "stop_early = tf.keras.callbacks.EarlyStopping(monitor='val_loss', patience=5, restore_best_weights=True)"
      ]
    },
    {
      "cell_type": "code",
      "source": [
        "history = nn_model.fit(x_train, y_train, epochs=100, validation_data=(x_valid, y_valid), callbacks=[stop_early])"
      ],
      "metadata": {
        "id": "1_saah2zDnw2",
        "colab": {
          "base_uri": "https://localhost:8080/"
        },
        "outputId": "223aa6f3-4596-4d17-de45-3298908f42d7"
      },
      "id": "1_saah2zDnw2",
      "execution_count": 26,
      "outputs": [
        {
          "output_type": "stream",
          "name": "stdout",
          "text": [
            "Epoch 1/100\n",
            "14106/14106 [==============================] - 77s 5ms/step - loss: 0.5950 - accuracy: 0.6812 - val_loss: 0.5879 - val_accuracy: 0.6780\n",
            "Epoch 2/100\n",
            "14106/14106 [==============================] - 72s 5ms/step - loss: 0.5890 - accuracy: 0.6861 - val_loss: 0.6019 - val_accuracy: 0.6673\n",
            "Epoch 3/100\n",
            "14106/14106 [==============================] - 68s 5ms/step - loss: 0.5865 - accuracy: 0.6883 - val_loss: 0.5716 - val_accuracy: 0.6985\n",
            "Epoch 4/100\n",
            "14106/14106 [==============================] - 67s 5ms/step - loss: 0.5838 - accuracy: 0.6901 - val_loss: 0.5738 - val_accuracy: 0.6973\n",
            "Epoch 5/100\n",
            "14106/14106 [==============================] - 73s 5ms/step - loss: 0.5806 - accuracy: 0.6923 - val_loss: 0.5703 - val_accuracy: 0.7109\n",
            "Epoch 6/100\n",
            "14106/14106 [==============================] - 66s 5ms/step - loss: 0.5764 - accuracy: 0.6959 - val_loss: 0.5793 - val_accuracy: 0.6967\n",
            "Epoch 7/100\n",
            "14106/14106 [==============================] - 66s 5ms/step - loss: 0.5715 - accuracy: 0.7001 - val_loss: 0.5574 - val_accuracy: 0.7154\n",
            "Epoch 8/100\n",
            "14106/14106 [==============================] - 66s 5ms/step - loss: 0.5658 - accuracy: 0.7049 - val_loss: 0.5710 - val_accuracy: 0.7010\n",
            "Epoch 9/100\n",
            "14106/14106 [==============================] - 73s 5ms/step - loss: 0.5597 - accuracy: 0.7096 - val_loss: 0.5706 - val_accuracy: 0.6983\n",
            "Epoch 10/100\n",
            "14106/14106 [==============================] - 66s 5ms/step - loss: 0.5531 - accuracy: 0.7151 - val_loss: 0.5508 - val_accuracy: 0.7195\n",
            "Epoch 11/100\n",
            "14106/14106 [==============================] - 73s 5ms/step - loss: 0.5466 - accuracy: 0.7207 - val_loss: 0.5397 - val_accuracy: 0.7246\n",
            "Epoch 12/100\n",
            "14106/14106 [==============================] - 73s 5ms/step - loss: 0.5404 - accuracy: 0.7259 - val_loss: 0.5584 - val_accuracy: 0.7093\n",
            "Epoch 13/100\n",
            "14106/14106 [==============================] - 73s 5ms/step - loss: 0.5345 - accuracy: 0.7306 - val_loss: 0.5315 - val_accuracy: 0.7313\n",
            "Epoch 14/100\n",
            "14106/14106 [==============================] - 73s 5ms/step - loss: 0.5289 - accuracy: 0.7352 - val_loss: 0.5463 - val_accuracy: 0.7201\n",
            "Epoch 15/100\n",
            "14106/14106 [==============================] - 67s 5ms/step - loss: 0.5233 - accuracy: 0.7396 - val_loss: 0.5221 - val_accuracy: 0.7362\n",
            "Epoch 16/100\n",
            "14106/14106 [==============================] - 67s 5ms/step - loss: 0.5179 - accuracy: 0.7442 - val_loss: 0.5337 - val_accuracy: 0.7308\n",
            "Epoch 17/100\n",
            "14106/14106 [==============================] - 67s 5ms/step - loss: 0.5125 - accuracy: 0.7478 - val_loss: 0.5358 - val_accuracy: 0.7272\n",
            "Epoch 18/100\n",
            "14106/14106 [==============================] - 73s 5ms/step - loss: 0.5072 - accuracy: 0.7524 - val_loss: 0.5002 - val_accuracy: 0.7529\n",
            "Epoch 19/100\n",
            "14106/14106 [==============================] - 73s 5ms/step - loss: 0.5015 - accuracy: 0.7569 - val_loss: 0.5079 - val_accuracy: 0.7491\n",
            "Epoch 20/100\n",
            "14106/14106 [==============================] - 67s 5ms/step - loss: 0.4959 - accuracy: 0.7609 - val_loss: 0.4970 - val_accuracy: 0.7561\n",
            "Epoch 21/100\n",
            "14106/14106 [==============================] - 74s 5ms/step - loss: 0.4898 - accuracy: 0.7660 - val_loss: 0.5060 - val_accuracy: 0.7488\n",
            "Epoch 22/100\n",
            "14106/14106 [==============================] - 68s 5ms/step - loss: 0.4834 - accuracy: 0.7706 - val_loss: 0.4965 - val_accuracy: 0.7565\n",
            "Epoch 23/100\n",
            "14106/14106 [==============================] - 68s 5ms/step - loss: 0.4766 - accuracy: 0.7759 - val_loss: 0.4827 - val_accuracy: 0.7651\n",
            "Epoch 24/100\n",
            "14106/14106 [==============================] - 74s 5ms/step - loss: 0.4692 - accuracy: 0.7809 - val_loss: 0.4657 - val_accuracy: 0.7768\n",
            "Epoch 25/100\n",
            "14106/14106 [==============================] - 73s 5ms/step - loss: 0.4616 - accuracy: 0.7866 - val_loss: 0.4800 - val_accuracy: 0.7686\n",
            "Epoch 26/100\n",
            "14106/14106 [==============================] - 67s 5ms/step - loss: 0.4532 - accuracy: 0.7927 - val_loss: 0.4682 - val_accuracy: 0.7763\n",
            "Epoch 27/100\n",
            "14106/14106 [==============================] - 67s 5ms/step - loss: 0.4441 - accuracy: 0.7992 - val_loss: 0.4629 - val_accuracy: 0.7797\n",
            "Epoch 28/100\n",
            "14106/14106 [==============================] - 73s 5ms/step - loss: 0.4347 - accuracy: 0.8058 - val_loss: 0.4312 - val_accuracy: 0.7987\n",
            "Epoch 29/100\n",
            "14106/14106 [==============================] - 67s 5ms/step - loss: 0.4247 - accuracy: 0.8122 - val_loss: 0.4473 - val_accuracy: 0.7903\n",
            "Epoch 30/100\n",
            "14106/14106 [==============================] - 74s 5ms/step - loss: 0.4142 - accuracy: 0.8186 - val_loss: 0.4351 - val_accuracy: 0.7986\n",
            "Epoch 31/100\n",
            "14106/14106 [==============================] - 67s 5ms/step - loss: 0.4034 - accuracy: 0.8265 - val_loss: 0.4176 - val_accuracy: 0.8095\n",
            "Epoch 32/100\n",
            "14106/14106 [==============================] - 74s 5ms/step - loss: 0.3919 - accuracy: 0.8333 - val_loss: 0.4189 - val_accuracy: 0.8091\n",
            "Epoch 33/100\n",
            "14106/14106 [==============================] - 74s 5ms/step - loss: 0.3804 - accuracy: 0.8400 - val_loss: 0.3970 - val_accuracy: 0.8205\n",
            "Epoch 34/100\n",
            "14106/14106 [==============================] - 73s 5ms/step - loss: 0.3686 - accuracy: 0.8475 - val_loss: 0.3847 - val_accuracy: 0.8285\n",
            "Epoch 35/100\n",
            "14106/14106 [==============================] - 73s 5ms/step - loss: 0.3565 - accuracy: 0.8539 - val_loss: 0.3734 - val_accuracy: 0.8353\n",
            "Epoch 36/100\n",
            "14106/14106 [==============================] - 68s 5ms/step - loss: 0.3445 - accuracy: 0.8606 - val_loss: 0.3601 - val_accuracy: 0.8433\n",
            "Epoch 37/100\n",
            "14106/14106 [==============================] - 69s 5ms/step - loss: 0.3326 - accuracy: 0.8677 - val_loss: 0.3498 - val_accuracy: 0.8492\n",
            "Epoch 38/100\n",
            "14106/14106 [==============================] - 67s 5ms/step - loss: 0.3204 - accuracy: 0.8744 - val_loss: 0.3268 - val_accuracy: 0.8608\n",
            "Epoch 39/100\n",
            "14106/14106 [==============================] - 69s 5ms/step - loss: 0.3087 - accuracy: 0.8806 - val_loss: 0.3371 - val_accuracy: 0.8566\n",
            "Epoch 40/100\n",
            "14106/14106 [==============================] - 67s 5ms/step - loss: 0.2967 - accuracy: 0.8866 - val_loss: 0.3067 - val_accuracy: 0.8714\n",
            "Epoch 41/100\n",
            "14106/14106 [==============================] - 67s 5ms/step - loss: 0.2853 - accuracy: 0.8926 - val_loss: 0.3083 - val_accuracy: 0.8712\n",
            "Epoch 42/100\n",
            "14106/14106 [==============================] - 67s 5ms/step - loss: 0.2738 - accuracy: 0.8980 - val_loss: 0.2909 - val_accuracy: 0.8805\n",
            "Epoch 43/100\n",
            "14106/14106 [==============================] - 68s 5ms/step - loss: 0.2626 - accuracy: 0.9033 - val_loss: 0.2661 - val_accuracy: 0.8930\n",
            "Epoch 44/100\n",
            "14106/14106 [==============================] - 69s 5ms/step - loss: 0.2518 - accuracy: 0.9085 - val_loss: 0.2553 - val_accuracy: 0.8977\n",
            "Epoch 45/100\n",
            "14106/14106 [==============================] - 67s 5ms/step - loss: 0.2414 - accuracy: 0.9131 - val_loss: 0.2415 - val_accuracy: 0.9047\n",
            "Epoch 46/100\n",
            "14106/14106 [==============================] - 67s 5ms/step - loss: 0.2311 - accuracy: 0.9175 - val_loss: 0.2357 - val_accuracy: 0.9073\n",
            "Epoch 47/100\n",
            "14106/14106 [==============================] - 68s 5ms/step - loss: 0.2208 - accuracy: 0.9220 - val_loss: 0.2285 - val_accuracy: 0.9108\n",
            "Epoch 48/100\n",
            "14106/14106 [==============================] - 74s 5ms/step - loss: 0.2111 - accuracy: 0.9261 - val_loss: 0.2154 - val_accuracy: 0.9175\n",
            "Epoch 49/100\n",
            "14106/14106 [==============================] - 74s 5ms/step - loss: 0.2017 - accuracy: 0.9300 - val_loss: 0.2014 - val_accuracy: 0.9239\n",
            "Epoch 50/100\n",
            "14106/14106 [==============================] - 73s 5ms/step - loss: 0.1924 - accuracy: 0.9337 - val_loss: 0.2113 - val_accuracy: 0.9188\n",
            "Epoch 51/100\n",
            "14106/14106 [==============================] - 73s 5ms/step - loss: 0.1836 - accuracy: 0.9374 - val_loss: 0.1911 - val_accuracy: 0.9281\n",
            "Epoch 52/100\n",
            "14106/14106 [==============================] - 66s 5ms/step - loss: 0.1750 - accuracy: 0.9410 - val_loss: 0.1813 - val_accuracy: 0.9326\n",
            "Epoch 53/100\n",
            "14106/14106 [==============================] - 67s 5ms/step - loss: 0.1672 - accuracy: 0.9441 - val_loss: 0.1645 - val_accuracy: 0.9408\n",
            "Epoch 54/100\n",
            "14106/14106 [==============================] - 67s 5ms/step - loss: 0.1591 - accuracy: 0.9469 - val_loss: 0.1637 - val_accuracy: 0.9406\n",
            "Epoch 55/100\n",
            "14106/14106 [==============================] - 67s 5ms/step - loss: 0.1514 - accuracy: 0.9498 - val_loss: 0.1596 - val_accuracy: 0.9420\n",
            "Epoch 56/100\n",
            "14106/14106 [==============================] - 72s 5ms/step - loss: 0.1443 - accuracy: 0.9523 - val_loss: 0.1520 - val_accuracy: 0.9455\n",
            "Epoch 57/100\n",
            "14106/14106 [==============================] - 66s 5ms/step - loss: 0.1374 - accuracy: 0.9550 - val_loss: 0.1363 - val_accuracy: 0.9524\n",
            "Epoch 58/100\n",
            "14106/14106 [==============================] - 66s 5ms/step - loss: 0.1309 - accuracy: 0.9574 - val_loss: 0.1352 - val_accuracy: 0.9522\n",
            "Epoch 59/100\n",
            "14106/14106 [==============================] - 66s 5ms/step - loss: 0.1245 - accuracy: 0.9594 - val_loss: 0.1312 - val_accuracy: 0.9540\n",
            "Epoch 60/100\n",
            "14106/14106 [==============================] - 73s 5ms/step - loss: 0.1183 - accuracy: 0.9616 - val_loss: 0.1217 - val_accuracy: 0.9580\n",
            "Epoch 61/100\n",
            "14106/14106 [==============================] - 66s 5ms/step - loss: 0.1129 - accuracy: 0.9635 - val_loss: 0.1110 - val_accuracy: 0.9627\n",
            "Epoch 62/100\n",
            "14106/14106 [==============================] - 66s 5ms/step - loss: 0.1074 - accuracy: 0.9651 - val_loss: 0.1067 - val_accuracy: 0.9644\n",
            "Epoch 63/100\n",
            "14106/14106 [==============================] - 73s 5ms/step - loss: 0.1026 - accuracy: 0.9670 - val_loss: 0.1067 - val_accuracy: 0.9634\n",
            "Epoch 64/100\n",
            "14106/14106 [==============================] - 73s 5ms/step - loss: 0.0974 - accuracy: 0.9687 - val_loss: 0.0964 - val_accuracy: 0.9681\n",
            "Epoch 65/100\n",
            "14106/14106 [==============================] - 73s 5ms/step - loss: 0.0928 - accuracy: 0.9701 - val_loss: 0.0930 - val_accuracy: 0.9696\n",
            "Epoch 66/100\n",
            "14106/14106 [==============================] - 66s 5ms/step - loss: 0.0884 - accuracy: 0.9715 - val_loss: 0.0863 - val_accuracy: 0.9717\n",
            "Epoch 67/100\n",
            "14106/14106 [==============================] - 73s 5ms/step - loss: 0.0843 - accuracy: 0.9727 - val_loss: 0.0852 - val_accuracy: 0.9719\n",
            "Epoch 68/100\n",
            "14106/14106 [==============================] - 66s 5ms/step - loss: 0.0804 - accuracy: 0.9739 - val_loss: 0.0787 - val_accuracy: 0.9743\n",
            "Epoch 69/100\n",
            "14106/14106 [==============================] - 66s 5ms/step - loss: 0.0768 - accuracy: 0.9751 - val_loss: 0.0756 - val_accuracy: 0.9751\n",
            "Epoch 70/100\n",
            "14106/14106 [==============================] - 66s 5ms/step - loss: 0.0733 - accuracy: 0.9763 - val_loss: 0.0729 - val_accuracy: 0.9761\n",
            "Epoch 71/100\n",
            "14106/14106 [==============================] - 65s 5ms/step - loss: 0.0699 - accuracy: 0.9772 - val_loss: 0.0659 - val_accuracy: 0.9790\n",
            "Epoch 72/100\n",
            "14106/14106 [==============================] - 72s 5ms/step - loss: 0.0668 - accuracy: 0.9785 - val_loss: 0.0645 - val_accuracy: 0.9788\n",
            "Epoch 73/100\n",
            "14106/14106 [==============================] - 65s 5ms/step - loss: 0.0639 - accuracy: 0.9799 - val_loss: 0.0611 - val_accuracy: 0.9800\n",
            "Epoch 74/100\n",
            "14106/14106 [==============================] - 73s 5ms/step - loss: 0.0612 - accuracy: 0.9810 - val_loss: 0.0608 - val_accuracy: 0.9798\n",
            "Epoch 75/100\n",
            "14106/14106 [==============================] - 72s 5ms/step - loss: 0.0583 - accuracy: 0.9821 - val_loss: 0.0602 - val_accuracy: 0.9797\n",
            "Epoch 76/100\n",
            "14106/14106 [==============================] - 72s 5ms/step - loss: 0.0559 - accuracy: 0.9831 - val_loss: 0.0541 - val_accuracy: 0.9822\n",
            "Epoch 77/100\n",
            "14106/14106 [==============================] - 72s 5ms/step - loss: 0.0539 - accuracy: 0.9839 - val_loss: 0.0510 - val_accuracy: 0.9837\n",
            "Epoch 78/100\n",
            "14106/14106 [==============================] - 72s 5ms/step - loss: 0.0517 - accuracy: 0.9849 - val_loss: 0.0508 - val_accuracy: 0.9836\n",
            "Epoch 79/100\n",
            "14106/14106 [==============================] - 66s 5ms/step - loss: 0.0497 - accuracy: 0.9857 - val_loss: 0.0518 - val_accuracy: 0.9829\n",
            "Epoch 80/100\n",
            "14106/14106 [==============================] - 73s 5ms/step - loss: 0.0479 - accuracy: 0.9863 - val_loss: 0.0482 - val_accuracy: 0.9840\n",
            "Epoch 81/100\n",
            "14106/14106 [==============================] - 67s 5ms/step - loss: 0.0462 - accuracy: 0.9871 - val_loss: 0.0431 - val_accuracy: 0.9862\n",
            "Epoch 82/100\n",
            "14106/14106 [==============================] - 67s 5ms/step - loss: 0.0446 - accuracy: 0.9876 - val_loss: 0.0455 - val_accuracy: 0.9849\n",
            "Epoch 83/100\n",
            "14106/14106 [==============================] - 67s 5ms/step - loss: 0.0434 - accuracy: 0.9881 - val_loss: 0.0423 - val_accuracy: 0.9864\n",
            "Epoch 84/100\n",
            "14106/14106 [==============================] - 67s 5ms/step - loss: 0.0417 - accuracy: 0.9886 - val_loss: 0.0436 - val_accuracy: 0.9856\n",
            "Epoch 85/100\n",
            "14106/14106 [==============================] - 73s 5ms/step - loss: 0.0406 - accuracy: 0.9889 - val_loss: 0.0385 - val_accuracy: 0.9878\n",
            "Epoch 86/100\n",
            "14106/14106 [==============================] - 73s 5ms/step - loss: 0.0390 - accuracy: 0.9893 - val_loss: 0.0358 - val_accuracy: 0.9887\n",
            "Epoch 87/100\n",
            "14106/14106 [==============================] - 66s 5ms/step - loss: 0.0381 - accuracy: 0.9897 - val_loss: 0.0358 - val_accuracy: 0.9886\n",
            "Epoch 88/100\n",
            "14106/14106 [==============================] - 73s 5ms/step - loss: 0.0368 - accuracy: 0.9900 - val_loss: 0.0330 - val_accuracy: 0.9897\n",
            "Epoch 89/100\n",
            "14106/14106 [==============================] - 67s 5ms/step - loss: 0.0359 - accuracy: 0.9902 - val_loss: 0.0364 - val_accuracy: 0.9883\n",
            "Epoch 90/100\n",
            "14106/14106 [==============================] - 74s 5ms/step - loss: 0.0347 - accuracy: 0.9906 - val_loss: 0.0339 - val_accuracy: 0.9894\n",
            "Epoch 91/100\n",
            "14106/14106 [==============================] - 73s 5ms/step - loss: 0.0338 - accuracy: 0.9909 - val_loss: 0.0327 - val_accuracy: 0.9899\n",
            "Epoch 92/100\n",
            "14106/14106 [==============================] - 69s 5ms/step - loss: 0.0332 - accuracy: 0.9911 - val_loss: 0.0331 - val_accuracy: 0.9896\n",
            "Epoch 93/100\n",
            "14106/14106 [==============================] - 74s 5ms/step - loss: 0.0322 - accuracy: 0.9913 - val_loss: 0.0306 - val_accuracy: 0.9907\n",
            "Epoch 94/100\n",
            "14106/14106 [==============================] - 67s 5ms/step - loss: 0.0313 - accuracy: 0.9917 - val_loss: 0.0303 - val_accuracy: 0.9907\n",
            "Epoch 95/100\n",
            "14106/14106 [==============================] - 73s 5ms/step - loss: 0.0305 - accuracy: 0.9918 - val_loss: 0.0297 - val_accuracy: 0.9909\n",
            "Epoch 96/100\n",
            "14106/14106 [==============================] - 67s 5ms/step - loss: 0.0299 - accuracy: 0.9920 - val_loss: 0.0302 - val_accuracy: 0.9908\n",
            "Epoch 97/100\n",
            "14106/14106 [==============================] - 68s 5ms/step - loss: 0.0291 - accuracy: 0.9923 - val_loss: 0.0267 - val_accuracy: 0.9922\n",
            "Epoch 98/100\n",
            "14106/14106 [==============================] - 74s 5ms/step - loss: 0.0289 - accuracy: 0.9924 - val_loss: 0.0250 - val_accuracy: 0.9927\n",
            "Epoch 99/100\n",
            "14106/14106 [==============================] - 73s 5ms/step - loss: 0.0282 - accuracy: 0.9926 - val_loss: 0.0249 - val_accuracy: 0.9927\n",
            "Epoch 100/100\n",
            "14106/14106 [==============================] - 73s 5ms/step - loss: 0.0276 - accuracy: 0.9927 - val_loss: 0.0259 - val_accuracy: 0.9924\n"
          ]
        }
      ]
    },
    {
      "cell_type": "code",
      "source": [
        "plot_loss(history)"
      ],
      "metadata": {
        "id": "dUl02w-MEHLQ",
        "colab": {
          "base_uri": "https://localhost:8080/",
          "height": 449
        },
        "outputId": "cb4eb28f-c404-4b14-ef6c-bda0fa8582e8"
      },
      "id": "dUl02w-MEHLQ",
      "execution_count": 27,
      "outputs": [
        {
          "output_type": "display_data",
          "data": {
            "text/plain": [
              "<Figure size 640x480 with 1 Axes>"
            ],
            "image/png": "[encoded data removed]"
          },
          "metadata": {}
        }
      ]
    },
    {
      "cell_type": "code",
      "source": [
        "plot_accuracy(history)"
      ],
      "metadata": {
        "id": "H_yHVKQfEJCG",
        "colab": {
          "base_uri": "https://localhost:8080/",
          "height": 449
        },
        "outputId": "ea675b11-a977-4c32-8914-8a297376847d"
      },
      "id": "H_yHVKQfEJCG",
      "execution_count": 28,
      "outputs": [
        {
          "output_type": "display_data",
          "data": {
            "text/plain": [
              "<Figure size 640x480 with 1 Axes>"
            ],
            "image/png": "[encoded data removed]"
          },
          "metadata": {}
        }
      ]
    },
    {
      "cell_type": "code",
      "source": [
        "y_predict = nn_model.predict(x_test)"
      ],
      "metadata": {
        "id": "SUUR4-JXDaWk",
        "colab": {
          "base_uri": "https://localhost:8080/"
        },
        "outputId": "72d13def-3cee-4626-fabe-7a18140c3062"
      },
      "id": "SUUR4-JXDaWk",
      "execution_count": 29,
      "outputs": [
        {
          "output_type": "stream",
          "name": "stdout",
          "text": [
            "7980/7980 [==============================] - 13s 2ms/step\n"
          ]
        }
      ]
    },
    {
      "cell_type": "code",
      "source": [
        "y_pred_binary = (y_predict >= 0.5).astype(int)"
      ],
      "metadata": {
        "id": "XHu1HhTPaSOA"
      },
      "id": "XHu1HhTPaSOA",
      "execution_count": 35,
      "outputs": []
    },
    {
      "cell_type": "code",
      "source": [
        "cr_nn = cr(y_test, y_pred_binary)"
      ],
      "metadata": {
        "id": "5s8lBQaJEWIA"
      },
      "id": "5s8lBQaJEWIA",
      "execution_count": 36,
      "outputs": []
    },
    {
      "cell_type": "code",
      "source": [
        "print(cr_nn)"
      ],
      "metadata": {
        "id": "RShdMIkDEjAL",
        "colab": {
          "base_uri": "https://localhost:8080/"
        },
        "outputId": "87623c45-fd0f-4796-cf37-2924f9318149"
      },
      "id": "RShdMIkDEjAL",
      "execution_count": 37,
      "outputs": [
        {
          "output_type": "stream",
          "name": "stdout",
          "text": [
            "              precision    recall  f1-score   support\n",
            "\n",
            "           0       1.00      0.99      1.00    225694\n",
            "           1       0.94      0.99      0.97     29653\n",
            "\n",
            "    accuracy                           0.99    255347\n",
            "   macro avg       0.97      0.99      0.98    255347\n",
            "weighted avg       0.99      0.99      0.99    255347\n",
            "\n"
          ]
        }
      ]
    },
    {
      "cell_type": "code",
      "source": [],
      "metadata": {
        "id": "Z9TT2bjsaK3D"
      },
      "id": "Z9TT2bjsaK3D",
      "execution_count": null,
      "outputs": []
    }
  ],
  "metadata": {
    "accelerator": "GPU",
    "colab": {
      "gpuType": "T4",
      "provenance": []
    },
    "kernelspec": {
      "display_name": "Python 3",
      "name": "python3"
    },
    "language_info": {
      "codemirror_mode": {
        "name": "ipython",
        "version": 3
      },
      "file_extension": ".py",
      "mimetype": "text/x-python",
      "name": "python",
      "nbconvert_exporter": "python",
      "pygments_lexer": "ipython3",
      "version": "3.11.7"
    }
  },
  "nbformat": 4,
  "nbformat_minor": 5
}